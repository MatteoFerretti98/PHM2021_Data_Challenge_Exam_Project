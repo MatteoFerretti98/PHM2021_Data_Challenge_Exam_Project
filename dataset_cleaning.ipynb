{
 "cells": [
  {
   "cell_type": "markdown",
   "metadata": {},
   "source": [
    "### PHM2021 Data Challenge - MPRAI Project ###"
   ]
  },
  {
   "cell_type": "code",
   "execution_count": null,
   "metadata": {},
   "outputs": [],
   "source": []
  }
 ],
 "metadata": {
  "kernelspec": {
   "display_name": "Python 3.10.2 64-bit",
   "language": "python",
   "name": "python3"
  },
  "language_info": {
   "name": "python",
   "version": "3.10.2"
  },
  "orig_nbformat": 4,
  "vscode": {
   "interpreter": {
    "hash": "17a403de6ea6b581a126efbe6d8843c69c67ef2ca3adde527217b0e5b7eb9770"
   }
  }
 },
 "nbformat": 4,
 "nbformat_minor": 2
}
