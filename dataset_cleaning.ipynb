{
 "cells": [
  {
   "cell_type": "markdown",
   "metadata": {},
   "source": [
    "### PHM2021 Data Challenge - MPRAI Project ###"
   ]
  },
  {
   "cell_type": "code",
   "execution_count": 1,
   "metadata": {},
   "outputs": [],
   "source": [
    "import os\n",
    "import h5py\n",
    "import time\n",
    "import matplotlib\n",
    "import numpy as np\n",
    "import pandas as pd\n",
    "import seaborn as sns\n",
    "from pandas import DataFrame\n",
    "import matplotlib.pyplot as plt\n",
    "from matplotlib import gridspec\n",
    "%matplotlib inline"
   ]
  },
  {
   "cell_type": "code",
   "execution_count": 4,
   "metadata": {},
   "outputs": [
    {
     "name": "stdout",
     "output_type": "stream",
     "text": [
      "Il file è stato danneggiato in modo irreparabile.\n"
     ]
    }
   ],
   "source": [
    "filename = './data_set/N-CMAPSS_DS08d-010.h5'\n",
    "repaired_filename = './data_set/N-CMAPSS_DS08d-010-repair.h5'\n",
    "\n",
    "try:\n",
    "    # Apri il file danneggiato in modalità di sola lettura\n",
    "    with h5py.File(filename, \"r\") as f:\n",
    "\n",
    "        # Crea un nuovo file HDF5 in modalità di scrittura\n",
    "        with h5py.File(repaired_filename, \"w\") as repaired_f:\n",
    "            # Copia tutti i gruppi e i dataset dal file originale al nuovo file\n",
    "            f.copy(\"/\", repaired_f)\n",
    "            # Elimina eventuali gruppi o dataset che causano un errore durante la lettura\n",
    "            for group_name in list(repaired_f.keys()):\n",
    "                try:\n",
    "                    group = repaired_f[group_name]\n",
    "                    for dataset_name in list(group.keys()):\n",
    "                        dataset = group[dataset_name]\n",
    "                        _ = dataset[()]\n",
    "                except:\n",
    "                    del repaired_f[group_name]\n",
    "\n",
    "            print(\"File riparato con successo.\")\n",
    "\n",
    "except OSError as e:\n",
    "    if 'truncated file' in str(e):\n",
    "        print(\"Il file è stato danneggiato in modo irreparabile.\")\n",
    "    else:\n",
    "        print(f\"Errore durante la riparazione del file: {e}\")"
   ]
  }
 ],
 "metadata": {
  "kernelspec": {
   "display_name": "Python 3.9.13 64-bit",
   "language": "python",
   "name": "python3"
  },
  "language_info": {
   "codemirror_mode": {
    "name": "ipython",
    "version": 3
   },
   "file_extension": ".py",
   "mimetype": "text/x-python",
   "name": "python",
   "nbconvert_exporter": "python",
   "pygments_lexer": "ipython3",
   "version": "3.9.13"
  },
  "orig_nbformat": 4,
  "vscode": {
   "interpreter": {
    "hash": "9390b399ef6e2965df510c80825b09eb8a490d8d772be155a6ac8cbea4637c3d"
   }
  }
 },
 "nbformat": 4,
 "nbformat_minor": 2
}
